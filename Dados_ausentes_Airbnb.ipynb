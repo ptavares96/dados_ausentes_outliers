{
  "nbformat": 4,
  "nbformat_minor": 0,
  "metadata": {
    "colab": {
      "provenance": [],
      "authorship_tag": "ABX9TyNniTqZ1d6QU8TxJzVv2ivS",
      "include_colab_link": true
    },
    "kernelspec": {
      "name": "python3",
      "display_name": "Python 3"
    },
    "language_info": {
      "name": "python"
    }
  },
  "cells": [
    {
      "cell_type": "markdown",
      "metadata": {
        "id": "view-in-github",
        "colab_type": "text"
      },
      "source": [
        "<a href=\"https://colab.research.google.com/github/ptavares96/dados_ausentes_outliers/blob/main/Dados_ausentes_Airbnb.ipynb\" target=\"_parent\"><img src=\"https://colab.research.google.com/assets/colab-badge.svg\" alt=\"Open In Colab\"/></a>"
      ]
    },
    {
      "cell_type": "markdown",
      "source": [
        "# Limpeza de dados\n",
        "\n",
        "É comum em uma análise exploratória de dados nos depararmos com duas situações: uma quantidade grande de dados faltando ou alguns dados estarem fora da realidade proposta (outliers). Nesses dois casos é dever do cientista de dados escolher uma solução para essas situações.\n",
        "\n",
        "Para as duas situações há duas soluções que dependerão dos casos. A primeira solução é a exclusão dos dados. Nesses casos de exclusão, previamente é preciso verificar se os a ausência desses dados não carrega algum significado, se são poucos e se ocorrem aleatoriamente. Em casos de preenchimento dos dados as entradas podem ser preenchidas por zeros ou valores estatísticos como: média, mediana ou moda. Em casos mais específicos e de muito conhecimento sobre os dados pode ser usado ferramentas de machine learning para o preenchimento.\n"
      ],
      "metadata": {
        "id": "IeM3-rqoMGq9"
      }
    },
    {
      "cell_type": "markdown",
      "source": [
        "## Importação dos dados"
      ],
      "metadata": {
        "id": "PC0lj7wYYJix"
      }
    },
    {
      "cell_type": "code",
      "source": [
        "# importando pacotes necessários\n",
        "import pandas as pd\n",
        "import matplotlib.pyplot as plt\n",
        "import seaborn as sns\n",
        "from google.colab import files \n",
        "\n",
        "pd.set_option('display.max_rows', None)"
      ],
      "metadata": {
        "id": "73QIPUVwX-l6"
      },
      "execution_count": 1,
      "outputs": []
    },
    {
      "cell_type": "markdown",
      "source": [
        "Os dados utilziados são referentes a alugueis disponibilizados no Airbnb na ciade de Austin, Texas. "
      ],
      "metadata": {
        "id": "8kADx8tFqlkG"
      }
    },
    {
      "cell_type": "code",
      "source": [
        "#importando so dados\n",
        "df = pd.read_csv(\"http://data.insideairbnb.com/united-states/tx/austin/2022-06-08/data/listings.csv.gz\")"
      ],
      "metadata": {
        "id": "QyN-PqF5YPYi"
      },
      "execution_count": 2,
      "outputs": []
    },
    {
      "cell_type": "markdown",
      "source": [
        "## Visualizando a quantidade de dados faltantes"
      ],
      "metadata": {
        "id": "M4ZrblHZq8Am"
      }
    },
    {
      "cell_type": "code",
      "source": [
        "# identificar o volume de dados do DataFrame\n",
        "print(f'No dataset há {df.shape[0]} entradas e {df.shape[1]} atributos (variáveis)')\n",
        "# tipos de variáveis\n",
        "print('\\nOs tipos de varíaveis do dataset são:')\n",
        "df.dtypes"
      ],
      "metadata": {
        "colab": {
          "base_uri": "https://localhost:8080/"
        },
        "id": "Ph7huFiqrAcW",
        "outputId": "ec4a982c-5c3e-4003-f22b-b344f57ecca5"
      },
      "execution_count": 3,
      "outputs": [
        {
          "output_type": "stream",
          "name": "stdout",
          "text": [
            "No dataset há 17071 entradas e 74 atributos (variáveis)\n",
            "\n",
            "Os tipos de varíaveis do dataset são:\n"
          ]
        },
        {
          "output_type": "execute_result",
          "data": {
            "text/plain": [
              "id                                                int64\n",
              "listing_url                                      object\n",
              "scrape_id                                         int64\n",
              "last_scraped                                     object\n",
              "name                                             object\n",
              "description                                      object\n",
              "neighborhood_overview                            object\n",
              "picture_url                                      object\n",
              "host_id                                           int64\n",
              "host_url                                         object\n",
              "host_name                                        object\n",
              "host_since                                       object\n",
              "host_location                                    object\n",
              "host_about                                       object\n",
              "host_response_time                               object\n",
              "host_response_rate                               object\n",
              "host_acceptance_rate                             object\n",
              "host_is_superhost                                object\n",
              "host_thumbnail_url                               object\n",
              "host_picture_url                                 object\n",
              "host_neighbourhood                               object\n",
              "host_listings_count                             float64\n",
              "host_total_listings_count                       float64\n",
              "host_verifications                               object\n",
              "host_has_profile_pic                             object\n",
              "host_identity_verified                           object\n",
              "neighbourhood                                    object\n",
              "neighbourhood_cleansed                            int64\n",
              "neighbourhood_group_cleansed                    float64\n",
              "latitude                                        float64\n",
              "longitude                                       float64\n",
              "property_type                                    object\n",
              "room_type                                        object\n",
              "accommodates                                      int64\n",
              "bathrooms                                       float64\n",
              "bathrooms_text                                   object\n",
              "bedrooms                                        float64\n",
              "beds                                            float64\n",
              "amenities                                        object\n",
              "price                                            object\n",
              "minimum_nights                                    int64\n",
              "maximum_nights                                    int64\n",
              "minimum_minimum_nights                          float64\n",
              "maximum_minimum_nights                          float64\n",
              "minimum_maximum_nights                          float64\n",
              "maximum_maximum_nights                          float64\n",
              "minimum_nights_avg_ntm                          float64\n",
              "maximum_nights_avg_ntm                          float64\n",
              "calendar_updated                                float64\n",
              "has_availability                                 object\n",
              "availability_30                                   int64\n",
              "availability_60                                   int64\n",
              "availability_90                                   int64\n",
              "availability_365                                  int64\n",
              "calendar_last_scraped                            object\n",
              "number_of_reviews                                 int64\n",
              "number_of_reviews_ltm                             int64\n",
              "number_of_reviews_l30d                            int64\n",
              "first_review                                     object\n",
              "last_review                                      object\n",
              "review_scores_rating                            float64\n",
              "review_scores_accuracy                          float64\n",
              "review_scores_cleanliness                       float64\n",
              "review_scores_checkin                           float64\n",
              "review_scores_communication                     float64\n",
              "review_scores_location                          float64\n",
              "review_scores_value                             float64\n",
              "license                                         float64\n",
              "instant_bookable                                 object\n",
              "calculated_host_listings_count                    int64\n",
              "calculated_host_listings_count_entire_homes       int64\n",
              "calculated_host_listings_count_private_rooms      int64\n",
              "calculated_host_listings_count_shared_rooms       int64\n",
              "reviews_per_month                               float64\n",
              "dtype: object"
            ]
          },
          "metadata": {},
          "execution_count": 3
        }
      ]
    },
    {
      "cell_type": "markdown",
      "source": [
        "Já é possível verificar que esse é um dataset extenso."
      ],
      "metadata": {
        "id": "GUsWdOc5rM09"
      }
    },
    {
      "cell_type": "code",
      "source": [
        "print(\"A quantidade dos valores ausentes para cada variável:\\n\")\n",
        "df.isnull().sum().sort_values(ascending = False)"
      ],
      "metadata": {
        "colab": {
          "base_uri": "https://localhost:8080/"
        },
        "id": "JbzvgDISrq_N",
        "outputId": "116e6b31-2a74-4149-9272-1c78b0868404"
      },
      "execution_count": 4,
      "outputs": [
        {
          "output_type": "stream",
          "name": "stdout",
          "text": [
            "A quantidade dos valores ausentes para cada variável:\n",
            "\n"
          ]
        },
        {
          "output_type": "execute_result",
          "data": {
            "text/plain": [
              "neighbourhood_group_cleansed                    17071\n",
              "bathrooms                                       17071\n",
              "calendar_updated                                17071\n",
              "license                                         17071\n",
              "neighborhood_overview                            6992\n",
              "neighbourhood                                    6992\n",
              "host_about                                       6763\n",
              "host_neighbourhood                               4670\n",
              "host_response_time                               3560\n",
              "host_response_rate                               3560\n",
              "review_scores_value                              3365\n",
              "review_scores_location                           3365\n",
              "review_scores_checkin                            3364\n",
              "review_scores_communication                      3362\n",
              "review_scores_cleanliness                        3362\n",
              "review_scores_accuracy                           3362\n",
              "first_review                                     3292\n",
              "reviews_per_month                                3292\n",
              "last_review                                      3292\n",
              "review_scores_rating                             3292\n",
              "host_acceptance_rate                             2965\n",
              "bedrooms                                         1070\n",
              "description                                       194\n",
              "beds                                              189\n",
              "host_location                                      93\n",
              "host_has_profile_pic                               65\n",
              "host_name                                          65\n",
              "host_is_superhost                                  65\n",
              "host_total_listings_count                          65\n",
              "host_since                                         65\n",
              "host_identity_verified                             65\n",
              "host_thumbnail_url                                 65\n",
              "host_listings_count                                65\n",
              "host_picture_url                                   65\n",
              "bathrooms_text                                     20\n",
              "picture_url                                         1\n",
              "minimum_maximum_nights                              1\n",
              "maximum_maximum_nights                              1\n",
              "maximum_nights_avg_ntm                              1\n",
              "minimum_nights_avg_ntm                              1\n",
              "maximum_minimum_nights                              1\n",
              "minimum_minimum_nights                              1\n",
              "number_of_reviews_l30d                              0\n",
              "host_id                                             0\n",
              "host_url                                            0\n",
              "number_of_reviews                                   0\n",
              "name                                                0\n",
              "last_scraped                                        0\n",
              "scrape_id                                           0\n",
              "instant_bookable                                    0\n",
              "calculated_host_listings_count                      0\n",
              "calculated_host_listings_count_entire_homes         0\n",
              "calculated_host_listings_count_private_rooms        0\n",
              "calculated_host_listings_count_shared_rooms         0\n",
              "number_of_reviews_ltm                               0\n",
              "has_availability                                    0\n",
              "calendar_last_scraped                               0\n",
              "availability_365                                    0\n",
              "host_verifications                                  0\n",
              "neighbourhood_cleansed                              0\n",
              "latitude                                            0\n",
              "longitude                                           0\n",
              "property_type                                       0\n",
              "room_type                                           0\n",
              "accommodates                                        0\n",
              "listing_url                                         0\n",
              "amenities                                           0\n",
              "price                                               0\n",
              "minimum_nights                                      0\n",
              "maximum_nights                                      0\n",
              "availability_30                                     0\n",
              "availability_60                                     0\n",
              "availability_90                                     0\n",
              "id                                                  0\n",
              "dtype: int64"
            ]
          },
          "metadata": {},
          "execution_count": 4
        }
      ]
    },
    {
      "cell_type": "markdown",
      "source": [
        "É visto que as variáveis **neighbourhood_group_cleansed, bathrooms, calendar_updated, license** possuem as maiores quantidades de dados ausentes. \n",
        "\n",
        "O ideal é visualizar a porcentagem que esses dados ausentes fazem parte no dataset."
      ],
      "metadata": {
        "id": "EHv_1qWgsNHN"
      }
    },
    {
      "cell_type": "code",
      "source": [
        "print(\"Quantidade de valores ausentes, em porcentagem (%) para cada variável:\\n\")\n",
        "(df.isnull().sum()/df.shape[0]*100).sort_values(ascending = False)"
      ],
      "metadata": {
        "colab": {
          "base_uri": "https://localhost:8080/"
        },
        "id": "UzkkWoVMi8H-",
        "outputId": "afeb8987-649a-4b1f-e7e5-13b3d95d96c5"
      },
      "execution_count": 5,
      "outputs": [
        {
          "output_type": "stream",
          "name": "stdout",
          "text": [
            "Quantidade de valores ausentes, em porcentagem (%) para cada variável:\n",
            "\n"
          ]
        },
        {
          "output_type": "execute_result",
          "data": {
            "text/plain": [
              "neighbourhood_group_cleansed                    100.000000\n",
              "bathrooms                                       100.000000\n",
              "calendar_updated                                100.000000\n",
              "license                                         100.000000\n",
              "neighborhood_overview                            40.958350\n",
              "neighbourhood                                    40.958350\n",
              "host_about                                       39.616894\n",
              "host_neighbourhood                               27.356335\n",
              "host_response_time                               20.854080\n",
              "host_response_rate                               20.854080\n",
              "review_scores_value                              19.711792\n",
              "review_scores_location                           19.711792\n",
              "review_scores_checkin                            19.705934\n",
              "review_scores_communication                      19.694218\n",
              "review_scores_cleanliness                        19.694218\n",
              "review_scores_accuracy                           19.694218\n",
              "first_review                                     19.284166\n",
              "reviews_per_month                                19.284166\n",
              "last_review                                      19.284166\n",
              "review_scores_rating                             19.284166\n",
              "host_acceptance_rate                             17.368637\n",
              "bedrooms                                          6.267940\n",
              "description                                       1.136430\n",
              "beds                                              1.107141\n",
              "host_location                                     0.544784\n",
              "host_has_profile_pic                              0.380763\n",
              "host_name                                         0.380763\n",
              "host_is_superhost                                 0.380763\n",
              "host_total_listings_count                         0.380763\n",
              "host_since                                        0.380763\n",
              "host_identity_verified                            0.380763\n",
              "host_thumbnail_url                                0.380763\n",
              "host_listings_count                               0.380763\n",
              "host_picture_url                                  0.380763\n",
              "bathrooms_text                                    0.117158\n",
              "picture_url                                       0.005858\n",
              "minimum_maximum_nights                            0.005858\n",
              "maximum_maximum_nights                            0.005858\n",
              "maximum_nights_avg_ntm                            0.005858\n",
              "minimum_nights_avg_ntm                            0.005858\n",
              "maximum_minimum_nights                            0.005858\n",
              "minimum_minimum_nights                            0.005858\n",
              "number_of_reviews_l30d                            0.000000\n",
              "host_id                                           0.000000\n",
              "host_url                                          0.000000\n",
              "number_of_reviews                                 0.000000\n",
              "name                                              0.000000\n",
              "last_scraped                                      0.000000\n",
              "scrape_id                                         0.000000\n",
              "instant_bookable                                  0.000000\n",
              "calculated_host_listings_count                    0.000000\n",
              "calculated_host_listings_count_entire_homes       0.000000\n",
              "calculated_host_listings_count_private_rooms      0.000000\n",
              "calculated_host_listings_count_shared_rooms       0.000000\n",
              "number_of_reviews_ltm                             0.000000\n",
              "has_availability                                  0.000000\n",
              "calendar_last_scraped                             0.000000\n",
              "availability_365                                  0.000000\n",
              "host_verifications                                0.000000\n",
              "neighbourhood_cleansed                            0.000000\n",
              "latitude                                          0.000000\n",
              "longitude                                         0.000000\n",
              "property_type                                     0.000000\n",
              "room_type                                         0.000000\n",
              "accommodates                                      0.000000\n",
              "listing_url                                       0.000000\n",
              "amenities                                         0.000000\n",
              "price                                             0.000000\n",
              "minimum_nights                                    0.000000\n",
              "maximum_nights                                    0.000000\n",
              "availability_30                                   0.000000\n",
              "availability_60                                   0.000000\n",
              "availability_90                                   0.000000\n",
              "id                                                0.000000\n",
              "dtype: float64"
            ]
          },
          "metadata": {},
          "execution_count": 5
        }
      ]
    },
    {
      "cell_type": "markdown",
      "source": [
        "É possível concluir que não há valores nas variáveis **neighbourhood_group_cleansed, bathrooms, calendar_updated, license**, podendo assim excluir as colunas que as representam. "
      ],
      "metadata": {
        "id": "jZ_0eWUDstx0"
      }
    },
    {
      "cell_type": "markdown",
      "source": [
        "## Excluindo dados ausentes"
      ],
      "metadata": {
        "id": "Cr2yu7mNtCJE"
      }
    },
    {
      "cell_type": "markdown",
      "source": [
        "Como não há valores para as variáveis **neighbourhood_group_cleansed, bathrooms, calendar_updated, license** é possível realizar a exclusão destas colunas. "
      ],
      "metadata": {
        "id": "Ad8qf6LiKHu2"
      }
    },
    {
      "cell_type": "code",
      "source": [
        "# elimiando colunas com valores ausentes:\n",
        "df.drop(columns=['neighbourhood_group_cleansed', 'bathrooms', 'calendar_updated', 'license'], inplace=True)"
      ],
      "metadata": {
        "id": "HhgneRA6KQl8"
      },
      "execution_count": 6,
      "outputs": []
    },
    {
      "cell_type": "markdown",
      "source": [
        "Após eliminadas as colunas com os valore ausentes a atenção agora será para as entradas com valores ausentes."
      ],
      "metadata": {
        "id": "7PHGFr-QLHE9"
      }
    },
    {
      "cell_type": "code",
      "source": [
        "print(f'No novo dataset há {df.shape[0]} entradas e {df.shape[1]} atributos (variáveis)\\n')\n",
        "print(\"Quantidade de valores ausentes, em porcentagem (%) para cada variável após exclusão de quatro colunas:\\n\")\n",
        "(df.isnull().sum()/df.shape[0]*100).sort_values(ascending = False)"
      ],
      "metadata": {
        "colab": {
          "base_uri": "https://localhost:8080/"
        },
        "id": "8VC_kepQLazN",
        "outputId": "3706f6ae-b7ef-45d6-acc0-d25aab6c5339"
      },
      "execution_count": 7,
      "outputs": [
        {
          "output_type": "stream",
          "name": "stdout",
          "text": [
            "No novo dataset há 17071 entradas e 70 atributos (variáveis)\n",
            "\n",
            "Quantidade de valores ausentes, em porcentagem (%) para cada variável após exclusão de quatro colunas:\n",
            "\n"
          ]
        },
        {
          "output_type": "execute_result",
          "data": {
            "text/plain": [
              "neighbourhood                                   40.958350\n",
              "neighborhood_overview                           40.958350\n",
              "host_about                                      39.616894\n",
              "host_neighbourhood                              27.356335\n",
              "host_response_rate                              20.854080\n",
              "host_response_time                              20.854080\n",
              "review_scores_value                             19.711792\n",
              "review_scores_location                          19.711792\n",
              "review_scores_checkin                           19.705934\n",
              "review_scores_accuracy                          19.694218\n",
              "review_scores_cleanliness                       19.694218\n",
              "review_scores_communication                     19.694218\n",
              "review_scores_rating                            19.284166\n",
              "last_review                                     19.284166\n",
              "first_review                                    19.284166\n",
              "reviews_per_month                               19.284166\n",
              "host_acceptance_rate                            17.368637\n",
              "bedrooms                                         6.267940\n",
              "description                                      1.136430\n",
              "beds                                             1.107141\n",
              "host_location                                    0.544784\n",
              "host_picture_url                                 0.380763\n",
              "host_thumbnail_url                               0.380763\n",
              "host_is_superhost                                0.380763\n",
              "host_listings_count                              0.380763\n",
              "host_name                                        0.380763\n",
              "host_since                                       0.380763\n",
              "host_identity_verified                           0.380763\n",
              "host_has_profile_pic                             0.380763\n",
              "host_total_listings_count                        0.380763\n",
              "bathrooms_text                                   0.117158\n",
              "minimum_minimum_nights                           0.005858\n",
              "picture_url                                      0.005858\n",
              "minimum_nights_avg_ntm                           0.005858\n",
              "maximum_maximum_nights                           0.005858\n",
              "minimum_maximum_nights                           0.005858\n",
              "maximum_minimum_nights                           0.005858\n",
              "maximum_nights_avg_ntm                           0.005858\n",
              "minimum_nights                                   0.000000\n",
              "maximum_nights                                   0.000000\n",
              "calculated_host_listings_count_shared_rooms      0.000000\n",
              "calculated_host_listings_count_private_rooms     0.000000\n",
              "calculated_host_listings_count_entire_homes      0.000000\n",
              "calculated_host_listings_count                   0.000000\n",
              "instant_bookable                                 0.000000\n",
              "scrape_id                                        0.000000\n",
              "last_scraped                                     0.000000\n",
              "name                                             0.000000\n",
              "host_verifications                               0.000000\n",
              "host_id                                          0.000000\n",
              "host_url                                         0.000000\n",
              "neighbourhood_cleansed                           0.000000\n",
              "latitude                                         0.000000\n",
              "longitude                                        0.000000\n",
              "number_of_reviews_l30d                           0.000000\n",
              "number_of_reviews_ltm                            0.000000\n",
              "number_of_reviews                                0.000000\n",
              "calendar_last_scraped                            0.000000\n",
              "availability_365                                 0.000000\n",
              "availability_90                                  0.000000\n",
              "availability_60                                  0.000000\n",
              "availability_30                                  0.000000\n",
              "has_availability                                 0.000000\n",
              "property_type                                    0.000000\n",
              "room_type                                        0.000000\n",
              "accommodates                                     0.000000\n",
              "listing_url                                      0.000000\n",
              "amenities                                        0.000000\n",
              "price                                            0.000000\n",
              "id                                               0.000000\n",
              "dtype: float64"
            ]
          },
          "metadata": {},
          "execution_count": 7
        }
      ]
    },
    {
      "cell_type": "markdown",
      "source": [
        "É observado que ainda há algumas variáveis com valores ausentes em algumas variáveis. Porém exluir uma linha completa pela falta de uma informação pode prejudicar uma escolha. Para isso é escolhido um critério a ser observado, ou seja, que entre todas as variáveis há uma variável de maior peso ao escolher um lugar para alugar. Definindo então que essa variável seja **price**, exluir uma linha com valor ausente vai influenciar na estatística dessa variável. \n",
        "\n",
        "Uma segunda variável para escolher como critério de alugel é **minumum_nights**, que indica o mínimo de noites necessárias para alugar um imóvel. Verifica-se que nela também não há valores ausentes, assim a exclusão de uma linha também pode influencia na estatística da variável. \n",
        "\n",
        "Escolhido então as variáveis mais importantes, é necessário analisá-las individualmente. "
      ],
      "metadata": {
        "id": "ChAQQfeNO9IS"
      }
    },
    {
      "cell_type": "markdown",
      "source": [
        "## Analisando a distribuição das variáveis"
      ],
      "metadata": {
        "id": "vgAx0-BkRQJw"
      }
    },
    {
      "cell_type": "markdown",
      "source": [
        "É interessante ao realizar alguma mudança no dataset e evitar ter que rodar partes do código desde o início criar um ponto de retorno. O ponto de retorno é criado copiando o dataset original para um novo dataset. "
      ],
      "metadata": {
        "id": "tOeKtMN-ZI0g"
      }
    },
    {
      "cell_type": "code",
      "source": [
        "#criando um ponto de retorno para o dataset original\n",
        "df_c = df.copy()"
      ],
      "metadata": {
        "id": "2bN1hMW0Tbb2"
      },
      "execution_count": 8,
      "outputs": []
    },
    {
      "cell_type": "markdown",
      "source": [
        "É verificado que há um problema na variável price. Ela está escrita de forma de string e com caracteres cifrão ($) e vírgula (,) e isso deixa impossível realizar a análise estatística necessária. Para isso será então deletado esses caracteres e converter a variável price para tipo float. "
      ],
      "metadata": {
        "id": "DOo1n89RZak_"
      }
    },
    {
      "cell_type": "code",
      "source": [
        "#retirando o sifrão ($) da variável price e as vírgulas\n",
        "df_c['price'] = df_c['price'].str.replace(\"$\",\"\")\n",
        "df_c['price'] = df_c['price'].str.replace(\",\",\"\")"
      ],
      "metadata": {
        "colab": {
          "base_uri": "https://localhost:8080/"
        },
        "id": "ziLj9ObkTt4e",
        "outputId": "da67bf9d-60b9-4ad1-f173-3126c80229b1"
      },
      "execution_count": 9,
      "outputs": [
        {
          "output_type": "stream",
          "name": "stderr",
          "text": [
            "/usr/local/lib/python3.7/dist-packages/ipykernel_launcher.py:2: FutureWarning: The default value of regex will change from True to False in a future version. In addition, single character regular expressions will *not* be treated as literal strings when regex=True.\n",
            "  \n"
          ]
        }
      ]
    },
    {
      "cell_type": "code",
      "source": [
        "#convertendo as variáveis price e minimum_nights para float\n",
        "df_c[['price', 'minimum_nights']] = df_c[['price', 'minimum_nights']].astype('float')"
      ],
      "metadata": {
        "id": "AnWndnS5Spn_"
      },
      "execution_count": 10,
      "outputs": []
    },
    {
      "cell_type": "markdown",
      "source": [
        "Realizando uma descrição estatística prévia para que seja possivél fazer algumas observações. "
      ],
      "metadata": {
        "id": "1phHhfHBZwQf"
      }
    },
    {
      "cell_type": "code",
      "source": [
        "#descrição estatística\n",
        "df_c[['price', 'minimum_nights']].describe()"
      ],
      "metadata": {
        "colab": {
          "base_uri": "https://localhost:8080/",
          "height": 300
        },
        "id": "1Tc9vQrhRrc3",
        "outputId": "9caf09c0-1be4-497b-c349-ce86c6d39c53"
      },
      "execution_count": 11,
      "outputs": [
        {
          "output_type": "execute_result",
          "data": {
            "text/plain": [
              "              price  minimum_nights\n",
              "count  17071.000000    17071.000000\n",
              "mean     294.265479        7.610275\n",
              "std      584.119849       25.212387\n",
              "min        0.000000        1.000000\n",
              "25%      107.000000        1.000000\n",
              "50%      175.000000        2.000000\n",
              "75%      298.000000        3.000000\n",
              "max    23000.000000     1100.000000"
            ],
            "text/html": [
              "\n",
              "  <div id=\"df-c67d81f5-cdb2-4676-8dad-10d07eeb04eb\">\n",
              "    <div class=\"colab-df-container\">\n",
              "      <div>\n",
              "<style scoped>\n",
              "    .dataframe tbody tr th:only-of-type {\n",
              "        vertical-align: middle;\n",
              "    }\n",
              "\n",
              "    .dataframe tbody tr th {\n",
              "        vertical-align: top;\n",
              "    }\n",
              "\n",
              "    .dataframe thead th {\n",
              "        text-align: right;\n",
              "    }\n",
              "</style>\n",
              "<table border=\"1\" class=\"dataframe\">\n",
              "  <thead>\n",
              "    <tr style=\"text-align: right;\">\n",
              "      <th></th>\n",
              "      <th>price</th>\n",
              "      <th>minimum_nights</th>\n",
              "    </tr>\n",
              "  </thead>\n",
              "  <tbody>\n",
              "    <tr>\n",
              "      <th>count</th>\n",
              "      <td>17071.000000</td>\n",
              "      <td>17071.000000</td>\n",
              "    </tr>\n",
              "    <tr>\n",
              "      <th>mean</th>\n",
              "      <td>294.265479</td>\n",
              "      <td>7.610275</td>\n",
              "    </tr>\n",
              "    <tr>\n",
              "      <th>std</th>\n",
              "      <td>584.119849</td>\n",
              "      <td>25.212387</td>\n",
              "    </tr>\n",
              "    <tr>\n",
              "      <th>min</th>\n",
              "      <td>0.000000</td>\n",
              "      <td>1.000000</td>\n",
              "    </tr>\n",
              "    <tr>\n",
              "      <th>25%</th>\n",
              "      <td>107.000000</td>\n",
              "      <td>1.000000</td>\n",
              "    </tr>\n",
              "    <tr>\n",
              "      <th>50%</th>\n",
              "      <td>175.000000</td>\n",
              "      <td>2.000000</td>\n",
              "    </tr>\n",
              "    <tr>\n",
              "      <th>75%</th>\n",
              "      <td>298.000000</td>\n",
              "      <td>3.000000</td>\n",
              "    </tr>\n",
              "    <tr>\n",
              "      <th>max</th>\n",
              "      <td>23000.000000</td>\n",
              "      <td>1100.000000</td>\n",
              "    </tr>\n",
              "  </tbody>\n",
              "</table>\n",
              "</div>\n",
              "      <button class=\"colab-df-convert\" onclick=\"convertToInteractive('df-c67d81f5-cdb2-4676-8dad-10d07eeb04eb')\"\n",
              "              title=\"Convert this dataframe to an interactive table.\"\n",
              "              style=\"display:none;\">\n",
              "        \n",
              "  <svg xmlns=\"http://www.w3.org/2000/svg\" height=\"24px\"viewBox=\"0 0 24 24\"\n",
              "       width=\"24px\">\n",
              "    <path d=\"M0 0h24v24H0V0z\" fill=\"none\"/>\n",
              "    <path d=\"M18.56 5.44l.94 2.06.94-2.06 2.06-.94-2.06-.94-.94-2.06-.94 2.06-2.06.94zm-11 1L8.5 8.5l.94-2.06 2.06-.94-2.06-.94L8.5 2.5l-.94 2.06-2.06.94zm10 10l.94 2.06.94-2.06 2.06-.94-2.06-.94-.94-2.06-.94 2.06-2.06.94z\"/><path d=\"M17.41 7.96l-1.37-1.37c-.4-.4-.92-.59-1.43-.59-.52 0-1.04.2-1.43.59L10.3 9.45l-7.72 7.72c-.78.78-.78 2.05 0 2.83L4 21.41c.39.39.9.59 1.41.59.51 0 1.02-.2 1.41-.59l7.78-7.78 2.81-2.81c.8-.78.8-2.07 0-2.86zM5.41 20L4 18.59l7.72-7.72 1.47 1.35L5.41 20z\"/>\n",
              "  </svg>\n",
              "      </button>\n",
              "      \n",
              "  <style>\n",
              "    .colab-df-container {\n",
              "      display:flex;\n",
              "      flex-wrap:wrap;\n",
              "      gap: 12px;\n",
              "    }\n",
              "\n",
              "    .colab-df-convert {\n",
              "      background-color: #E8F0FE;\n",
              "      border: none;\n",
              "      border-radius: 50%;\n",
              "      cursor: pointer;\n",
              "      display: none;\n",
              "      fill: #1967D2;\n",
              "      height: 32px;\n",
              "      padding: 0 0 0 0;\n",
              "      width: 32px;\n",
              "    }\n",
              "\n",
              "    .colab-df-convert:hover {\n",
              "      background-color: #E2EBFA;\n",
              "      box-shadow: 0px 1px 2px rgba(60, 64, 67, 0.3), 0px 1px 3px 1px rgba(60, 64, 67, 0.15);\n",
              "      fill: #174EA6;\n",
              "    }\n",
              "\n",
              "    [theme=dark] .colab-df-convert {\n",
              "      background-color: #3B4455;\n",
              "      fill: #D2E3FC;\n",
              "    }\n",
              "\n",
              "    [theme=dark] .colab-df-convert:hover {\n",
              "      background-color: #434B5C;\n",
              "      box-shadow: 0px 1px 3px 1px rgba(0, 0, 0, 0.15);\n",
              "      filter: drop-shadow(0px 1px 2px rgba(0, 0, 0, 0.3));\n",
              "      fill: #FFFFFF;\n",
              "    }\n",
              "  </style>\n",
              "\n",
              "      <script>\n",
              "        const buttonEl =\n",
              "          document.querySelector('#df-c67d81f5-cdb2-4676-8dad-10d07eeb04eb button.colab-df-convert');\n",
              "        buttonEl.style.display =\n",
              "          google.colab.kernel.accessAllowed ? 'block' : 'none';\n",
              "\n",
              "        async function convertToInteractive(key) {\n",
              "          const element = document.querySelector('#df-c67d81f5-cdb2-4676-8dad-10d07eeb04eb');\n",
              "          const dataTable =\n",
              "            await google.colab.kernel.invokeFunction('convertToInteractive',\n",
              "                                                     [key], {});\n",
              "          if (!dataTable) return;\n",
              "\n",
              "          const docLinkHtml = 'Like what you see? Visit the ' +\n",
              "            '<a target=\"_blank\" href=https://colab.research.google.com/notebooks/data_table.ipynb>data table notebook</a>'\n",
              "            + ' to learn more about interactive tables.';\n",
              "          element.innerHTML = '';\n",
              "          dataTable['output_type'] = 'display_data';\n",
              "          await google.colab.output.renderOutput(dataTable, element);\n",
              "          const docLink = document.createElement('div');\n",
              "          docLink.innerHTML = docLinkHtml;\n",
              "          element.appendChild(docLink);\n",
              "        }\n",
              "      </script>\n",
              "    </div>\n",
              "  </div>\n",
              "  "
            ]
          },
          "metadata": {},
          "execution_count": 11
        }
      ]
    },
    {
      "cell_type": "markdown",
      "source": [
        "Aqui é visto que há alguns valores que chamam atenção, como para a variável price um valor máximo de aluguel de \\$23000,00 e com 75% dos valores abaixo de \\$298,00.\n",
        "Na variável minimum_nights um valor máximo de 1100 noites mínimas para alugar sendo que 75% dos valores estão abaixo de 3 noites. Para uma melhor observação é válido olhar como esses valores estão distribuídos. "
      ],
      "metadata": {
        "id": "_InAtJMAaAxf"
      }
    },
    {
      "cell_type": "code",
      "source": [
        "sns.set_theme(style=\"whitegrid\", palette='mako')"
      ],
      "metadata": {
        "id": "QlLA-UVeW6aK"
      },
      "execution_count": 12,
      "outputs": []
    },
    {
      "cell_type": "markdown",
      "source": [
        "A melhor maneira de observar como estão distribuídos os valores em uma variável \n",
        "é a partir de um histograma.  "
      ],
      "metadata": {
        "id": "MLX_XTqtRhuw"
      }
    },
    {
      "cell_type": "code",
      "source": [
        "#histograma das variáveis price e minimum_nights\n",
        "df_c[['price', 'minimum_nights']].hist(bins=15, figsize = (12,5), grid=False);\n",
        "plt.savefig('hist_clean.png', dpi=100, bbox_inches='tight')\n",
        "files.download('hist_clean.png') \n",
        "sns.despine()"
      ],
      "metadata": {
        "colab": {
          "base_uri": "https://localhost:8080/",
          "height": 338
        },
        "id": "40BwT4ZRL3St",
        "outputId": "9cbdfd6f-439b-4389-a721-f3416c70a620"
      },
      "execution_count": 13,
      "outputs": [
        {
          "output_type": "display_data",
          "data": {
            "text/plain": [
              "<IPython.core.display.Javascript object>"
            ],
            "application/javascript": [
              "\n",
              "    async function download(id, filename, size) {\n",
              "      if (!google.colab.kernel.accessAllowed) {\n",
              "        return;\n",
              "      }\n",
              "      const div = document.createElement('div');\n",
              "      const label = document.createElement('label');\n",
              "      label.textContent = `Downloading \"${filename}\": `;\n",
              "      div.appendChild(label);\n",
              "      const progress = document.createElement('progress');\n",
              "      progress.max = size;\n",
              "      div.appendChild(progress);\n",
              "      document.body.appendChild(div);\n",
              "\n",
              "      const buffers = [];\n",
              "      let downloaded = 0;\n",
              "\n",
              "      const channel = await google.colab.kernel.comms.open(id);\n",
              "      // Send a message to notify the kernel that we're ready.\n",
              "      channel.send({})\n",
              "\n",
              "      for await (const message of channel.messages) {\n",
              "        // Send a message to notify the kernel that we're ready.\n",
              "        channel.send({})\n",
              "        if (message.buffers) {\n",
              "          for (const buffer of message.buffers) {\n",
              "            buffers.push(buffer);\n",
              "            downloaded += buffer.byteLength;\n",
              "            progress.value = downloaded;\n",
              "          }\n",
              "        }\n",
              "      }\n",
              "      const blob = new Blob(buffers, {type: 'application/binary'});\n",
              "      const a = document.createElement('a');\n",
              "      a.href = window.URL.createObjectURL(blob);\n",
              "      a.download = filename;\n",
              "      div.appendChild(a);\n",
              "      a.click();\n",
              "      div.remove();\n",
              "    }\n",
              "  "
            ]
          },
          "metadata": {}
        },
        {
          "output_type": "display_data",
          "data": {
            "text/plain": [
              "<IPython.core.display.Javascript object>"
            ],
            "application/javascript": [
              "download(\"download_386794ab-3233-4599-af96-4dcd5ea13b98\", \"hist_clean.png\", 20778)"
            ]
          },
          "metadata": {}
        },
        {
          "output_type": "display_data",
          "data": {
            "text/plain": [
              "<Figure size 864x360 with 2 Axes>"
            ],
            "image/png": "[encoded data removed]"
          },
          "metadata": {}
        }
      ]
    },
    {
      "cell_type": "markdown",
      "source": [
        "Olhando para o histograma das variáveis é visto então uma má distribuição já que maior parte dos valores se concentram em um intervalo. Com os resultados da descrição estatística e com a distribuição supõe que há valores discrepantes, **outliers**. Esses valores atrapalham em uma análise exploratória mais rígida e é necessário eliminá-los ou em alguns casos preencher com outros valores (moda, média ou mediana).  "
      ],
      "metadata": {
        "id": "D0ZdAP23bQ7W"
      }
    },
    {
      "cell_type": "markdown",
      "source": [
        "## Lidando com valores outliers"
      ],
      "metadata": {
        "id": "4qhxwNdeb4gt"
      }
    },
    {
      "cell_type": "markdown",
      "source": [
        "Um outro modo de observar os outliers das variáveis é a partir de um gráfico de boxplot. Nele é representado os valroes em quantils, que é uma divisão dos valores em quatro partes. "
      ],
      "metadata": {
        "id": "4SG1IFp-QIec"
      }
    },
    {
      "cell_type": "code",
      "source": [
        "#boxplot para a variável price\n",
        "fig, ax = plt.subplots(figsize=(15,5))\n",
        "ax = sns.boxplot(x=df_c['price'])\n",
        "ax.set_title('Boxplot variável price\\n', loc='left', fontsize=18)\n",
        "ax.set_xlabel('Preço ($)')\n",
        "sns.despine()\n",
        "plt.savefig('boxplot_price.png', dpi=100, bbox_inches='tight')\n",
        "files.download('boxplot_price.png')"
      ],
      "metadata": {
        "id": "ewrw7ftxKfRm",
        "colab": {
          "base_uri": "https://localhost:8080/",
          "height": 381
        },
        "outputId": "012d51dc-39ac-486b-cba5-3b722643e360"
      },
      "execution_count": 14,
      "outputs": [
        {
          "output_type": "display_data",
          "data": {
            "text/plain": [
              "<IPython.core.display.Javascript object>"
            ],
            "application/javascript": [
              "\n",
              "    async function download(id, filename, size) {\n",
              "      if (!google.colab.kernel.accessAllowed) {\n",
              "        return;\n",
              "      }\n",
              "      const div = document.createElement('div');\n",
              "      const label = document.createElement('label');\n",
              "      label.textContent = `Downloading \"${filename}\": `;\n",
              "      div.appendChild(label);\n",
              "      const progress = document.createElement('progress');\n",
              "      progress.max = size;\n",
              "      div.appendChild(progress);\n",
              "      document.body.appendChild(div);\n",
              "\n",
              "      const buffers = [];\n",
              "      let downloaded = 0;\n",
              "\n",
              "      const channel = await google.colab.kernel.comms.open(id);\n",
              "      // Send a message to notify the kernel that we're ready.\n",
              "      channel.send({})\n",
              "\n",
              "      for await (const message of channel.messages) {\n",
              "        // Send a message to notify the kernel that we're ready.\n",
              "        channel.send({})\n",
              "        if (message.buffers) {\n",
              "          for (const buffer of message.buffers) {\n",
              "            buffers.push(buffer);\n",
              "            downloaded += buffer.byteLength;\n",
              "            progress.value = downloaded;\n",
              "          }\n",
              "        }\n",
              "      }\n",
              "      const blob = new Blob(buffers, {type: 'application/binary'});\n",
              "      const a = document.createElement('a');\n",
              "      a.href = window.URL.createObjectURL(blob);\n",
              "      a.download = filename;\n",
              "      div.appendChild(a);\n",
              "      a.click();\n",
              "      div.remove();\n",
              "    }\n",
              "  "
            ]
          },
          "metadata": {}
        },
        {
          "output_type": "display_data",
          "data": {
            "text/plain": [
              "<IPython.core.display.Javascript object>"
            ],
            "application/javascript": [
              "download(\"download_66b1c026-7cf1-442e-ae86-c8b8bd877fe7\", \"boxplot_price.png\", 17320)"
            ]
          },
          "metadata": {}
        },
        {
          "output_type": "display_data",
          "data": {
            "text/plain": [
              "<Figure size 1080x360 with 1 Axes>"
            ],
            "image/png": "[encoded data removed]"
          },
          "metadata": {}
        }
      ]
    },
    {
      "cell_type": "code",
      "source": [
        "#boxplot para a variável price\n",
        "fig, ax = plt.subplots(figsize=(15,5))\n",
        "ax = sns.boxplot(x=df_c['minimum_nights'])\n",
        "ax.set_title('Boxplot variável minimum_nights\\n', loc='left', fontsize=18)\n",
        "ax.set_xlabel('Mínimo de noites')\n",
        "sns.despine()\n",
        "plt.savefig('boxplot_minimum_nights.png', dpi=100, bbox_inches='tight')\n",
        "files.download('boxplot_minimum_nights.png')"
      ],
      "metadata": {
        "colab": {
          "base_uri": "https://localhost:8080/",
          "height": 381
        },
        "id": "v6YYUD7QUapg",
        "outputId": "842c167d-1f27-4759-d222-a28917cff319"
      },
      "execution_count": 15,
      "outputs": [
        {
          "output_type": "display_data",
          "data": {
            "text/plain": [
              "<IPython.core.display.Javascript object>"
            ],
            "application/javascript": [
              "\n",
              "    async function download(id, filename, size) {\n",
              "      if (!google.colab.kernel.accessAllowed) {\n",
              "        return;\n",
              "      }\n",
              "      const div = document.createElement('div');\n",
              "      const label = document.createElement('label');\n",
              "      label.textContent = `Downloading \"${filename}\": `;\n",
              "      div.appendChild(label);\n",
              "      const progress = document.createElement('progress');\n",
              "      progress.max = size;\n",
              "      div.appendChild(progress);\n",
              "      document.body.appendChild(div);\n",
              "\n",
              "      const buffers = [];\n",
              "      let downloaded = 0;\n",
              "\n",
              "      const channel = await google.colab.kernel.comms.open(id);\n",
              "      // Send a message to notify the kernel that we're ready.\n",
              "      channel.send({})\n",
              "\n",
              "      for await (const message of channel.messages) {\n",
              "        // Send a message to notify the kernel that we're ready.\n",
              "        channel.send({})\n",
              "        if (message.buffers) {\n",
              "          for (const buffer of message.buffers) {\n",
              "            buffers.push(buffer);\n",
              "            downloaded += buffer.byteLength;\n",
              "            progress.value = downloaded;\n",
              "          }\n",
              "        }\n",
              "      }\n",
              "      const blob = new Blob(buffers, {type: 'application/binary'});\n",
              "      const a = document.createElement('a');\n",
              "      a.href = window.URL.createObjectURL(blob);\n",
              "      a.download = filename;\n",
              "      div.appendChild(a);\n",
              "      a.click();\n",
              "      div.remove();\n",
              "    }\n",
              "  "
            ]
          },
          "metadata": {}
        },
        {
          "output_type": "display_data",
          "data": {
            "text/plain": [
              "<IPython.core.display.Javascript object>"
            ],
            "application/javascript": [
              "download(\"download_873e6a0e-ad2c-417b-8367-d3e4c16472f7\", \"boxplot_minimum_nights.png\", 19574)"
            ]
          },
          "metadata": {}
        },
        {
          "output_type": "display_data",
          "data": {
            "text/plain": [
              "<Figure size 1080x360 with 1 Axes>"
            ],
            "image/png": "[encoded data removed]"
          },
          "metadata": {}
        }
      ]
    },
    {
      "cell_type": "markdown",
      "source": [
        "A partir dos boxplots é visto que há valores muito altos nessas variáveis Para então uma análise estatística mais acurada é necessário eliminar esses valores. "
      ],
      "metadata": {
        "id": "-PrJQ_vDUi8g"
      }
    },
    {
      "cell_type": "code",
      "source": [
        "#identificando os outliers para a variavel price\n",
        "q1_price = df_c.price.quantile(0.25)\n",
        "q3_price = df_c.price.quantile(0.75)\n",
        "IQR_price = q3_price - q1_price \n",
        "print('IQR da variavel price:', IQR_price)\n",
        "\n",
        "#definindo limites\n",
        "sup_price = q3_price + 1.5 * IQR_price\n",
        "inf_price = q1_price - 1.5 * IQR_price\n",
        "\n",
        "print('Limite superior de price:', sup_price)\n",
        "print('Limite inferior de price:', inf_price)"
      ],
      "metadata": {
        "colab": {
          "base_uri": "https://localhost:8080/"
        },
        "id": "4tBcUk89UiWX",
        "outputId": "3c99e2dc-c15e-4405-e99d-a2ed2f003123"
      },
      "execution_count": null,
      "outputs": [
        {
          "output_type": "stream",
          "name": "stdout",
          "text": [
            "IQR da variavel price: 191.0\n",
            "Limite superior de price: 584.5\n",
            "Limite inferior de price: -179.5\n"
          ]
        }
      ]
    },
    {
      "cell_type": "code",
      "source": [
        "print(\"O dataset possui {} entradas\".format(df_c.shape[0]))\n",
        "print(\"{} entradas com preços acima de $584,50\".format(len(df_c[df_c.price > 584.5])))\n",
        "print(\"As entradas com preços acima de $584,50 representam {:.2f}% do dataset\".format((len(df_c[df_c.price > 584.5])/df_c.shape[0])*100))\n",
        "print(\"{} entradas com preços iguais a $0,00\".format(len(df_c[df_c.price == 0])))\n",
        "print(\"As entradas com preços iguais a $0,00 representam {:.2f}% do dataset\".format((len(df_c[df_c.price == 0])/df_c.shape[0])*100))"
      ],
      "metadata": {
        "colab": {
          "base_uri": "https://localhost:8080/"
        },
        "id": "RY9gUeDAVkiu",
        "outputId": "23659fe6-bf9b-4806-b52a-1710a74a2ab7"
      },
      "execution_count": 37,
      "outputs": [
        {
          "output_type": "stream",
          "name": "stdout",
          "text": [
            "O dataset possui 17071 entradas\n",
            "1569 entradas com preços acima de $584,50\n",
            "As entradas com preços acima de $584,50 representam 9.19% do dataset\n",
            "4 entradas com preços igual a $0,00\n",
            "As entradas com preços igual a $0,00 representam 0.02% do dataset\n"
          ]
        }
      ]
    },
    {
      "cell_type": "code",
      "source": [
        "# identificando os outliers para a variável minimum_nights\n",
        "q1_minimum_nights = df_c.minimum_nights.quantile(.25)\n",
        "q3_minimum_nights = df_c.minimum_nights.quantile(.75)\n",
        "IQR_minimum_nights = q3_minimum_nights - q1_minimum_nights\n",
        "print('IQR da variável minimum_nights: ', IQR_minimum_nights)\n",
        "\n",
        "# definindo os limites                                       \n",
        "sup_minimum_nights = q3_minimum_nights + 1.5 * IQR_minimum_nights\n",
        "inf_minimum_nights = q1_minimum_nights - 1.5 * IQR_minimum_nights\n",
        "\n",
        "print('Limite superior de minimum_nights: ', sup_minimum_nights)\n",
        "print('Limite inferior de minimum_nights: ', inf_minimum_nights)"
      ],
      "metadata": {
        "colab": {
          "base_uri": "https://localhost:8080/"
        },
        "id": "0K90qFNAWBPe",
        "outputId": "8c536de2-bb4e-45a0-818a-0e7d776b95f6"
      },
      "execution_count": 29,
      "outputs": [
        {
          "output_type": "stream",
          "name": "stdout",
          "text": [
            "IQR da variável minimum_nights:  2.0\n",
            "Limite superior de minimum_nights:  6.0\n",
            "Limite inferior de minimum_nights:  -2.0\n"
          ]
        }
      ]
    },
    {
      "cell_type": "code",
      "source": [
        "print(\"O dataset possui {} entradas\".format(df_c.shape[0]))\n",
        "print(\"{} Entradas acima com noites mínimas acima de 6\".format(len(df_c[df_c.minimum_nights > 6.0])))\n",
        "print(\"As entradas com noites mínimas acima de 6 representam {:.2f}% do dataset\".format((len(df_c[df_c.minimum_nights > 6.0]) / df_c.shape[0])*100))"
      ],
      "metadata": {
        "colab": {
          "base_uri": "https://localhost:8080/"
        },
        "id": "avNby1MNWMv-",
        "outputId": "8e6299f8-68e2-4cf5-edae-1eeefd46e485"
      },
      "execution_count": 38,
      "outputs": [
        {
          "output_type": "stream",
          "name": "stdout",
          "text": [
            "O dataset possui 17071 entradas\n",
            "2669 Entradas acima com noites mínimas acima de 6\n",
            "As entradas com noites mínimas acima de 6 representam 15.63% do dataset\n"
          ]
        }
      ]
    },
    {
      "cell_type": "code",
      "source": [
        "# adicionando um segundo ponto de retorno\n",
        "df_clean = df_c.copy()\n",
        "\n",
        "# excluindo ouliers das variáveis 'price' e 'minimum_nights'\n",
        "df_clean.drop(df_clean[df_clean.price > 584.5].index, axis = 0, inplace = True)\n",
        "df_clean.drop(df_clean[df_clean.price == 0].index, axis = 0, inplace = True)\n",
        "df_clean.drop(df_clean[df_clean.minimum_nights > 6].index, axis = 0, inplace = True)"
      ],
      "metadata": {
        "id": "U3PCuwp1GZK_"
      },
      "execution_count": 39,
      "outputs": []
    },
    {
      "cell_type": "code",
      "source": [
        "#histograma das variáveis price e minimum_nights\n",
        "ax = df_clean[['price', 'minimum_nights']].hist(bins=15, figsize = (12,5), grid=False);\n",
        "sns.despine()\n",
        "plt.savefig('hist_clean_clean.png', dpi=100, bbox_inches='tight')\n",
        "files.download('hist_clean_clean.png') "
      ],
      "metadata": {
        "colab": {
          "base_uri": "https://localhost:8080/",
          "height": 338
        },
        "id": "9ZohUCAbNW55",
        "outputId": "15610104-133d-401d-ea3f-63cc509b040d"
      },
      "execution_count": 40,
      "outputs": [
        {
          "output_type": "display_data",
          "data": {
            "text/plain": [
              "<IPython.core.display.Javascript object>"
            ],
            "application/javascript": [
              "\n",
              "    async function download(id, filename, size) {\n",
              "      if (!google.colab.kernel.accessAllowed) {\n",
              "        return;\n",
              "      }\n",
              "      const div = document.createElement('div');\n",
              "      const label = document.createElement('label');\n",
              "      label.textContent = `Downloading \"${filename}\": `;\n",
              "      div.appendChild(label);\n",
              "      const progress = document.createElement('progress');\n",
              "      progress.max = size;\n",
              "      div.appendChild(progress);\n",
              "      document.body.appendChild(div);\n",
              "\n",
              "      const buffers = [];\n",
              "      let downloaded = 0;\n",
              "\n",
              "      const channel = await google.colab.kernel.comms.open(id);\n",
              "      // Send a message to notify the kernel that we're ready.\n",
              "      channel.send({})\n",
              "\n",
              "      for await (const message of channel.messages) {\n",
              "        // Send a message to notify the kernel that we're ready.\n",
              "        channel.send({})\n",
              "        if (message.buffers) {\n",
              "          for (const buffer of message.buffers) {\n",
              "            buffers.push(buffer);\n",
              "            downloaded += buffer.byteLength;\n",
              "            progress.value = downloaded;\n",
              "          }\n",
              "        }\n",
              "      }\n",
              "      const blob = new Blob(buffers, {type: 'application/binary'});\n",
              "      const a = document.createElement('a');\n",
              "      a.href = window.URL.createObjectURL(blob);\n",
              "      a.download = filename;\n",
              "      div.appendChild(a);\n",
              "      a.click();\n",
              "      div.remove();\n",
              "    }\n",
              "  "
            ]
          },
          "metadata": {}
        },
        {
          "output_type": "display_data",
          "data": {
            "text/plain": [
              "<IPython.core.display.Javascript object>"
            ],
            "application/javascript": [
              "download(\"download_88d5f0a2-518b-4539-b282-b249b745465f\", \"hist_clean_clean.png\", 23652)"
            ]
          },
          "metadata": {}
        },
        {
          "output_type": "display_data",
          "data": {
            "text/plain": [
              "<Figure size 864x360 with 2 Axes>"
            ],
            "image/png": "[encoded data removed]"
          },
          "metadata": {}
        }
      ]
    },
    {
      "cell_type": "markdown",
      "source": [
        "## Conclusão\n",
        "A limpeza de dados é necessária para corrigir alguns dados faltantes ou dados  muito discrepantes. No início do dataset foi observado que havia colunas sem valores, assim foi necessário eliminá-las. Um outro caso pode ser colunas com muitos valores ausentes e que a falta da variável não influencia em nenhuma análise.\n",
        " \n",
        "Foram analisadas as variáveis: 'price' e 'minimum_nights'. Estas variáveis foram escolhidas por poderem fazer parte de um critério para escolha de aluguéis da região do dataset. Nessas variáveis haviam valores muito acima da realidade, sendo necessário utiliza-se do método IQR para exclusão desses outliers."
      ],
      "metadata": {
        "id": "cI07Z4SrN1Qm"
      }
    },
    {
      "cell_type": "code",
      "source": [],
      "metadata": {
        "id": "zVebRIHQCXi0"
      },
      "execution_count": null,
      "outputs": []
    }
  ]
}